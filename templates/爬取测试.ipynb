{
 "cells": [
  {
   "cell_type": "code",
   "execution_count": 1,
   "metadata": {},
   "outputs": [],
   "source": [
    "from flask import Flask, request, jsonify\n",
    "import requests\n",
    "import re\n",
    "import time\n",
    "import random\n",
    "import json\n",
    "import os\n",
    "import csv\n",
    "import pandas as pd\n",
    "from bs4 import BeautifulSoup"
   ]
  },
  {
   "cell_type": "code",
   "execution_count": 2,
   "metadata": {},
   "outputs": [],
   "source": [
    "def movie_info(movie_name):\n",
    "    url = 'https://movie.douban.com/j/subject_suggest?q=' + movie_name\n",
    "    html = requests.get(url, headers={'User-Agent': 'Mozilla/5.0 (Windows NT 10.0; Win64; x64) AppleWebKit/537.36 (KHTML, like Gecko) Chrome/80.0.3987.132 Safari/537.36'}).text\n",
    "    json_data = json.loads(html)\n",
    "    # 多个结果分别并保存\n",
    "    result = []\n",
    "    for i in range(len(json_data)):\n",
    "        movie_year = json_data[i]['year']\n",
    "        movel_subtitle = json_data[i]['sub_title']\n",
    "        movie_title = json_data[i]['title']\n",
    "        movie_img = json_data[i]['img']\n",
    "        result.append([movie_year, movel_subtitle, movie_title, movie_img])\n",
    "    return result\n",
    "\n",
    "def pandas_to_html(df):\n",
    "    # style\n",
    "    styles = [\n",
    "        dict(selector=\"th\", props=[(\"font-size\", \"100%\"),\n",
    "                                      (\"text-align\", \"center\"),\n",
    "                                        (\"font-weight\", \"bold\"),\n",
    "                                        (\"color\", \"#6D7993\"),\n",
    "                                        (\"background-color\", \"#E1E1E1\")]),\n",
    "        dict(selector=\"td\", props=[(\"font-size\", \"100%\"),\n",
    "                                    (\"text-align\", \"center\")]),\n",
    "        dict(selector=\"caption\", props=[(\"caption-side\", \"bottom\")])\n",
    "    ]\n",
    "\n",
    "\n",
    "    for i in range(len(df)):\n",
    "        img_url = df['movie_img'][i]\n",
    "        img_name = df['movie_title'][i] + '.jpg'\n",
    "        img_path = 'static/img/' + img_name\n",
    "        if not os.path.exists(img_path):\n",
    "            with open(img_path, 'wb') as f:\n",
    "                f.write(requests.get(img_url).content)\n",
    "        df['movie_img'][i] = '<img src=\"' + img_path + '\" width=\"100px\" height=\"150px\" />'\n",
    "    return df.style.set_table_styles(styles).render()"
   ]
  },
  {
   "cell_type": "code",
   "execution_count": 5,
   "metadata": {},
   "outputs": [
    {
     "name": "stdout",
     "output_type": "stream",
     "text": [
      " * Serving Flask app '__main__' (lazy loading)\n",
      " * Environment: production\n",
      "\u001b[31m   WARNING: This is a development server. Do not use it in a production deployment.\u001b[0m\n",
      "\u001b[2m   Use a production WSGI server instead.\u001b[0m\n",
      " * Debug mode: off\n"
     ]
    },
    {
     "name": "stderr",
     "output_type": "stream",
     "text": [
      " * Running on http://127.0.0.1:5000/ (Press CTRL+C to quit)\n",
      "127.0.0.1 - - [26/Oct/2022 15:31:32] \"GET / HTTP/1.1\" 200 -\n",
      "127.0.0.1 - - [26/Oct/2022 15:31:32] \"GET /CSS/4-style.css HTTP/1.1\" 404 -\n",
      "127.0.0.1 - - [26/Oct/2022 15:31:32] \"GET /ico/iconfont.css HTTP/1.1\" 404 -\n",
      "127.0.0.1 - - [26/Oct/2022 15:32:03] \"GET / HTTP/1.1\" 200 -\n",
      "127.0.0.1 - - [26/Oct/2022 15:32:03] \"GET /CSS/4-style.css HTTP/1.1\" 404 -\n",
      "127.0.0.1 - - [26/Oct/2022 15:32:03] \"GET /ico/iconfont.css HTTP/1.1\" 404 -\n"
     ]
    }
   ],
   "source": [
    "# 搜索页面\n",
    "app = Flask(__name__)\n",
    "\n",
    "@app.route('/')\n",
    "def index():\n",
    "    return '''\n",
    "    <form action=\"/search\" method=\"get\">\n",
    "        <input type=\"text\" name=\"movie_name\" />\n",
    "        <input type=\"submit\" value=\"搜索\" />\n",
    "    </form>\n",
    "    '''\n",
    "\n",
    "@app.route('/search')\n",
    "def search():\n",
    "    movie_name = request.args.get('movie_name')\n",
    "    result = movie_info(movie_name)\n",
    "    df = pd.DataFrame(result, columns=['movie_year', 'movel_subtitle', 'movie_title', 'movie_img'])\n",
    "    return pandas_to_html(df)\n",
    "\n",
    "if __name__ == '__main__':\n",
    "    app.run()"
   ]
  }
 ],
 "metadata": {
  "kernelspec": {
   "display_name": "Python 3",
   "language": "python",
   "name": "python3"
  },
  "language_info": {
   "codemirror_mode": {
    "name": "ipython",
    "version": 3
   },
   "file_extension": ".py",
   "mimetype": "text/x-python",
   "name": "python",
   "nbconvert_exporter": "python",
   "pygments_lexer": "ipython3",
   "version": "3.10.4 (tags/v3.10.4:9d38120, Mar 23 2022, 23:13:41) [MSC v.1929 64 bit (AMD64)]"
  },
  "orig_nbformat": 4,
  "vscode": {
   "interpreter": {
    "hash": "9064624a6d7a163c8170bad4e60146a10ec4542b9d4eefed0ab8c49633a95943"
   }
  }
 },
 "nbformat": 4,
 "nbformat_minor": 2
}
